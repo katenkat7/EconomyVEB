{
 "cells": [
  {
   "cell_type": "code",
   "execution_count": null,
   "metadata": {
    "collapsed": true,
    "is_executing": true
   },
   "outputs": [],
   "source": [
    "import streamlit as st\n",
    "import pandas as pd\n",
    "\n",
    "# Запросите ввод пользователя\n",
    "N_ABS = st.number_input('Введите значение N_ABS', min_value=0)\n",
    "percent_VEB = st.number_input('Введите значение %_ВЭБ', min_value=0, max_value=100)\n",
    "percent_AMB_VEB = st.number_input('Введите значение %_АМБ_ВЭБ', min_value=0, max_value=100)\n",
    "percent_STAC_VEB = st.number_input('Введите значение %_СТАЦ_ВЭБ', min_value=0, max_value=100)\n",
    "\n",
    "# Вычислите значения\n",
    "VEB_ABS = N_ABS * (percent_VEB / 100)\n",
    "AMB_VEB_ABS = VEB_ABS * (percent_AMB_VEB / 100)\n",
    "STAC_VEB_ABS = VEB_ABS * (percent_STAC_VEB / 100)\n",
    "\n",
    "# Отобразите результаты\n",
    "st.write('АБС_ВЭБ:', VEB_ABS)\n",
    "st.write('АМБ_АБС_ВЭБ:', AMB_VEB_ABS)\n",
    "st.write('СТАЦ_АБС_ВЭБ:', STAC_VEB_ABS)"
   ]
  },
  {
   "cell_type": "code",
   "execution_count": null,
   "outputs": [],
   "source": [
    "!streamlit run s.py\n"
   ],
   "metadata": {
    "collapsed": false,
    "is_executing": true
   }
  },
  {
   "cell_type": "code",
   "execution_count": null,
   "outputs": [],
   "source": [],
   "metadata": {
    "collapsed": false
   }
  }
 ],
 "metadata": {
  "kernelspec": {
   "display_name": "Python 3",
   "language": "python",
   "name": "python3"
  },
  "language_info": {
   "codemirror_mode": {
    "name": "ipython",
    "version": 2
   },
   "file_extension": ".py",
   "mimetype": "text/x-python",
   "name": "python",
   "nbconvert_exporter": "python",
   "pygments_lexer": "ipython2",
   "version": "2.7.6"
  }
 },
 "nbformat": 4,
 "nbformat_minor": 0
}
