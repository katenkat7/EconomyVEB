{
 "cells": [
  {
   "cell_type": "code",
   "execution_count": 4,
   "metadata": {
    "collapsed": true,
    "ExecuteTime": {
     "end_time": "2023-11-24T12:55:23.734784800Z",
     "start_time": "2023-11-24T12:55:22.578034100Z"
    }
   },
   "outputs": [
    {
     "ename": "AttributeError",
     "evalue": "module 'streamlit' has no attribute 'number_input'",
     "output_type": "error",
     "traceback": [
      "\u001B[1;31m---------------------------------------------------------------------------\u001B[0m",
      "\u001B[1;31mAttributeError\u001B[0m                            Traceback (most recent call last)",
      "Cell \u001B[1;32mIn[4], line 5\u001B[0m\n\u001B[0;32m      2\u001B[0m \u001B[38;5;28;01mimport\u001B[39;00m \u001B[38;5;21;01mpandas\u001B[39;00m \u001B[38;5;28;01mas\u001B[39;00m \u001B[38;5;21;01mpd\u001B[39;00m\n\u001B[0;32m      4\u001B[0m \u001B[38;5;66;03m# Запросите ввод пользователя\u001B[39;00m\n\u001B[1;32m----> 5\u001B[0m N_ABS \u001B[38;5;241m=\u001B[39m \u001B[43mst\u001B[49m\u001B[38;5;241;43m.\u001B[39;49m\u001B[43mnumber_input\u001B[49m(\u001B[38;5;124m'\u001B[39m\u001B[38;5;124mВведите значение N_ABS\u001B[39m\u001B[38;5;124m'\u001B[39m, min_value\u001B[38;5;241m=\u001B[39m\u001B[38;5;241m0\u001B[39m)\n\u001B[0;32m      6\u001B[0m percent_VEB \u001B[38;5;241m=\u001B[39m st\u001B[38;5;241m.\u001B[39mnumber_input(\u001B[38;5;124m'\u001B[39m\u001B[38;5;124mВведите значение \u001B[39m\u001B[38;5;124m%\u001B[39m\u001B[38;5;124m_ВЭБ\u001B[39m\u001B[38;5;124m'\u001B[39m, min_value\u001B[38;5;241m=\u001B[39m\u001B[38;5;241m0\u001B[39m, max_value\u001B[38;5;241m=\u001B[39m\u001B[38;5;241m100\u001B[39m)\n\u001B[0;32m      7\u001B[0m percent_AMB_VEB \u001B[38;5;241m=\u001B[39m st\u001B[38;5;241m.\u001B[39mnumber_input(\u001B[38;5;124m'\u001B[39m\u001B[38;5;124mВведите значение \u001B[39m\u001B[38;5;124m%\u001B[39m\u001B[38;5;124m_АМБ_ВЭБ\u001B[39m\u001B[38;5;124m'\u001B[39m, min_value\u001B[38;5;241m=\u001B[39m\u001B[38;5;241m0\u001B[39m, max_value\u001B[38;5;241m=\u001B[39m\u001B[38;5;241m100\u001B[39m)\n",
      "\u001B[1;31mAttributeError\u001B[0m: module 'streamlit' has no attribute 'number_input'"
     ]
    }
   ],
   "source": [
    "import streamlit as st\n",
    "import pandas as pd\n",
    "\n",
    "# Запросите ввод пользователя\n",
    "N_ABS = st.number_input('Введите значение N_ABS', min_value=0)\n",
    "percent_VEB = st.number_input('Введите значение %_ВЭБ', min_value=0, max_value=100)\n",
    "percent_AMB_VEB = st.number_input('Введите значение %_АМБ_ВЭБ', min_value=0, max_value=100)\n",
    "percent_STAC_VEB = st.number_input('Введите значение %_СТАЦ_ВЭБ', min_value=0, max_value=100)\n",
    "\n",
    "# Вычислите значения\n",
    "VEB_ABS = N_ABS * (percent_VEB / 100)\n",
    "AMB_VEB_ABS = VEB_ABS * (percent_AMB_VEB / 100)\n",
    "STAC_VEB_ABS = VEB_ABS * (percent_STAC_VEB / 100)\n",
    "\n",
    "# Отобразите результаты\n",
    "st.write('АБС_ВЭБ:', VEB_ABS)\n",
    "st.write('АМБ_АБС_ВЭБ:', AMB_VEB_ABS)\n",
    "st.write('СТАЦ_АБС_ВЭБ:', STAC_VEB_ABS)"
   ]
  },
  {
   "cell_type": "code",
   "execution_count": null,
   "outputs": [],
   "source": [
    "!streamlit run s.py"
   ],
   "metadata": {
    "collapsed": false
   }
  },
  {
   "cell_type": "code",
   "execution_count": null,
   "outputs": [],
   "source": [],
   "metadata": {
    "collapsed": false
   }
  }
 ],
 "metadata": {
  "kernelspec": {
   "display_name": "Python 3",
   "language": "python",
   "name": "python3"
  },
  "language_info": {
   "codemirror_mode": {
    "name": "ipython",
    "version": 2
   },
   "file_extension": ".py",
   "mimetype": "text/x-python",
   "name": "python",
   "nbconvert_exporter": "python",
   "pygments_lexer": "ipython2",
   "version": "2.7.6"
  }
 },
 "nbformat": 4,
 "nbformat_minor": 0
}
